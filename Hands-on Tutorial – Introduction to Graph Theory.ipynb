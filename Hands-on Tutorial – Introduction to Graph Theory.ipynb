{
 "cells": [
  {
   "cell_type": "markdown",
   "metadata": {},
   "source": [
    "# Hands-on Tutorial – Introduction to Graph Theory\n",
    "\n",
    "This notebook provides a practical introduction to graph theory using the Python library `networkx` to build, visualize, and analyze various types of graphs. The aim is to combine theoretical concepts (based on literature in complex networks) with hands-on coding examples, so you can experiment and adapt the code to your needs.\n",
    "\n",
    "**Objectives:**\n",
    "- Understand basic concepts of graphs: nodes, edges, simple graphs, directed graphs, and weighted graphs.\n",
    "- Explore practical examples of creating and visualizing graphs.\n",
    "- Encourage experimentation with network manipulation and basic algorithms.\n",
    "\n",
    "Let’s get started!"
   ]
  },
  {
   "cell_type": "markdown",
   "metadata": {},
   "source": [
    "## Basic Concepts\n",
    "\n",
    "A **graph** \\(G = (V, E)\\) consists of a set of **nodes** \\(V\\) and a set of **edges** \\(E\\) that connect pairs of nodes. Depending on the nature of these connections, graphs can be categorized as follows:\n",
    "\n",
    "- **Simple Graphs:** No self-loops and at most one edge between any pair of nodes.\n",
    "- **Directed Graphs:** Edges have a direction, meaning that connections are not necessarily reciprocal.\n",
    "- **Weighted Graphs:** Each edge has an associated numerical value (weight) representing, for example, the strength or cost of the connection.\n",
    "\n",
    "In this tutorial, we will create practical examples for each type."
   ]
  },
  {
   "cell_type": "code",
   "execution_count": null,
   "metadata": {},
   "outputs": [],
   "source": [
    "# Import required libraries\n",
    "import networkx as nx\n",
    "import matplotlib.pyplot as plt\n",
    "%matplotlib inline\n",
    "\n",
    "# Create a simple graph\n",
    "G = nx.Graph()\n",
    "\n",
    "# Adding nodes\n",
    "G.add_nodes_from([1, 2, 3, 4])\n",
    "\n",
    "# Adding edges\n",
    "G.add_edges_from([(1, 2), (2, 3), (3, 4), (4, 1), (1, 3)])\n",
    "\n",
    "# Draw the graph\n",
    "plt.figure(figsize=(6, 6))\n",
    "nx.draw(G, with_labels=True, node_color='lightblue', edge_color='gray', node_size=500)\n",
    "plt.title('Simple Graph')\n",
    "plt.show()"
   ]
  },
  {
   "cell_type": "markdown",
   "metadata": {},
   "source": [
    "## Practical Example – Directed and Weighted Graphs\n",
    "\n",
    "In the following example, we construct a directed graph where each edge has a weight. This model is useful to represent, for example, social networks with asymmetric relationships or systems where the intensity of the connection varies.\n",
    "\n",
    "Feel free to modify the weight values and connections to observe how the graph behavior changes."
   ]
  },
  {
   "cell_type": "code",
   "execution_count": null,
   "metadata": {},
   "outputs": [],
   "source": [
    "# Creating a directed and weighted graph\n",
    "DG = nx.DiGraph()\n",
    "\n",
    "# Adding nodes\n",
    "DG.add_nodes_from(['A', 'B', 'C', 'D'])\n",
    "\n",
    "# Adding weighted edges\n",
    "DG.add_weighted_edges_from([\n",
    "    ('A', 'B', 2.5),\n",
    "    ('B', 'C', 1.8),\n",
    "    ('C', 'D', 3.2),\n",
    "    ('D', 'A', 4.0),\n",
    "    ('A', 'C', 2.0)\n",
    "])\n",
    "\n",
    "# Positioning nodes for better visualization\n",
    "pos = nx.spring_layout(DG)\n",
    "\n",
    "# Drawing the graph\n",
    "plt.figure(figsize=(6,6))\n",
    "nx.draw(DG, pos, with_labels=True, node_color='lightgreen', arrowstyle='->', arrowsize=15)\n",
    "\n",
    "# Extract weights for edge labels\n",
    "labels = nx.get_edge_attributes(DG, 'weight')\n",
    "nx.draw_networkx_edge_labels(DG, pos, edge_labels=labels)\n",
    "\n",
    "plt.title('Directed and Weighted Graph')\n",
    "plt.show()"
   ]
  },
  {
   "cell_type": "markdown",
   "metadata": {},
   "source": [
    "## Next Steps\n",
    "\n",
    "1. **Exercise:** Create a weighted graph modeling a transportation network where nodes represent cities and edge weights indicate distances between them.\n",
    "\n",
    "2. **Exploration:** Use `networkx` functions to compute node degrees, shortest paths, and connected components.\n",
    "\n",
    "3. **Challenge:** Implement a directed graph with non-reciprocal connections and analyze how this affects search algorithms and centrality measures.\n",
    "\n",
    "Feel free to modify and expand this notebook. Experimentation is key to understanding the theoretical concepts behind complex networks!"
   ]
  }
 ],
 "metadata": {
  "kernelspec": {
   "display_name": "Python 3",
   "language": "python",
   "name": "python3"
  },
  "language_info": {
   "name": "python",
   "version": "3.x"
  }
 },
 "nbformat": 4,
 "nbformat_minor": 2
}
