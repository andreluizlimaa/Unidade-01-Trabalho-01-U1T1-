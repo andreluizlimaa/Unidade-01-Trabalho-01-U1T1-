{
 "cells": [
  {
   "cell_type": "markdown",
   "metadata": {},
   "source": [
    "# Tutorial Hands on – Introdução à Teoria dos Grafos\n",
    "\n",
    "Este notebook apresenta uma introdução prática à teoria dos grafos, utilizando a biblioteca Python `networkx` para construir, visualizar e analisar diferentes tipos de grafos. A proposta é combinar conceitos teóricos (baseados na literatura de redes complexas) com exemplos práticos, para que você possa experimentar e adaptar os códigos conforme sua necessidade.\n",
    "\n",
    "**Objetivos:**\n",
    "- Compreender os conceitos básicos de grafos: nós, arestas, grafos simples, direcionados e ponderados.\n",
    "- Explorar exemplos práticos de criação e visualização de grafos.\n",
    "- Estimular a experimentação com a manipulação de redes e o uso de algoritmos básicos.\n",
    "\n",
    "Vamos começar!"
   ]
  },
  {
   "cell_type": "markdown",
   "metadata": {},
   "source": [
    "## Conceitos Básicos\n",
    "\n",
    "Um **grafo** \\(G = (V, E)\\) é formado por um conjunto de **nós** \\(V\\) e um conjunto de **arestas** \\(E\\) que conectam pares de nós. Dependendo da natureza das conexões, podemos ter:\n",
    "\n",
    "- **Grafos Simples:** Sem laços (auto-conexões) e com no máximo uma aresta entre cada par de nós.\n",
    "- **Grafos Direcionados:** Em que as arestas têm direção, ou seja, a relação de conexão não é necessariamente recíproca.\n",
    "- **Grafos Ponderados:** Onde cada aresta possui um valor numérico (peso) que pode representar a intensidade ou custo da conexão.\n",
    "\n",
    "No decorrer deste tutorial, vamos criar exemplos práticos para cada caso."
   ]
  },
  {
   "cell_type": "code",
   "execution_count": null,
   "metadata": {},
   "outputs": [],
   "source": [
    "# Importando as bibliotecas necessárias\n",
    "import networkx as nx\n",
    "import matplotlib.pyplot as plt\n",
    "%matplotlib inline\n",
    "\n",
    "# Criando um grafo simples\n",
    "G = nx.Graph()\n",
    "\n",
    "# Adicionando nós\n",
    "G.add_nodes_from([1, 2, 3, 4])\n",
    "\n",
    "# Adicionando arestas\n",
    "G.add_edges_from([(1, 2), (2, 3), (3, 4), (4, 1), (1, 3)])\n",
    "\n",
    "# Desenhando o grafo\n",
    "plt.figure(figsize=(6, 6))\n",
    "nx.draw(G, with_labels=True, node_color='lightblue', edge_color='gray', node_size=500)\n",
    "plt.title('Grafo Simples')\n",
    "plt.show()"
   ]
  },
  {
   "cell_type": "markdown",
   "metadata": {},
   "source": [
    "## Exemplo Prático – Grafos Direcionados e Ponderados\n",
    "\n",
    "No próximo exemplo, vamos construir um grafo direcionado, onde cada aresta possui um peso. Esse tipo de modelo é útil, por exemplo, para representar redes sociais com relações assimétricas ou sistemas onde a intensidade da conexão varia.\n",
    "\n",
    "Experimente alterar os valores dos pesos e as conexões para ver como o grafo se comporta."
   ]
  },
  {
   "cell_type": "code",
   "execution_count": null,
   "metadata": {},
   "outputs": [],
   "source": [
    "# Criando um grafo direcionado e ponderado\n",
    "DG = nx.DiGraph()\n",
    "\n",
    "# Adicionando nós\n",
    "DG.add_nodes_from(['A', 'B', 'C', 'D'])\n",
    "\n",
    "# Adicionando arestas com pesos\n",
    "DG.add_weighted_edges_from([\n",
    "    ('A', 'B', 2.5),\n",
    "    ('B', 'C', 1.8),\n",
    "    ('C', 'D', 3.2),\n",
    "    ('D', 'A', 4.0),\n",
    "    ('A', 'C', 2.0)\n",
    "])\n",
    "\n",
    "# Posição dos nós para melhor visualização\n",
    "pos = nx.spring_layout(DG)\n",
    "\n",
    "# Desenhando o grafo\n",
    "plt.figure(figsize=(6,6))\n",
    "nx.draw(DG, pos, with_labels=True, node_color='lightgreen', arrowstyle='->', arrowsize=15)\n",
    "\n",
    "# Extraindo os pesos para desenhar as labels\n",
    "labels = nx.get_edge_attributes(DG, 'weight')\n",
    "nx.draw_networkx_edge_labels(DG, pos, edge_labels=labels)\n",
    "\n",
    "plt.title('Grafo Direcionado e Ponderado')\n",
    "plt.show()"
   ]
  },
  {
   "cell_type": "markdown",
   "metadata": {},
   "source": [
    "## Próximos Passos\n",
    "\n",
    "1. **Exercício:** Crie um grafo ponderado que modele uma rede de transportes, onde os nós representem cidades e os pesos das arestas indiquem a distância entre elas.\n",
    "\n",
    "2. **Exploração:** Utilize funções do `networkx` para calcular propriedades como o grau dos nós, caminhos mais curtos e componentes conectados.\n",
    "\n",
    "3. **Desafio:** Implemente um grafo direcionado onde as conexões não são necessariamente recíprocas e analise o impacto disso em algoritmos de busca e centralidade.\n",
    "\n",
    "Sinta-se à vontade para modificar e expandir este notebook. A prática é fundamental para o entendimento dos conceitos teóricos apresentados!"
   ]
  }
 ],
 "metadata": {
  "kernelspec": {
   "display_name": "Python 3",
   "language": "python",
   "name": "python3"
  },
  "language_info": {
   "name": "python",
   "version": "3.x"
  }
 },
 "nbformat": 4,
 "nbformat_minor": 2
}
